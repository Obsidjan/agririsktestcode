{
  "metadata": {
    "language_info": {
      "codemirror_mode": {
        "name": "python",
        "version": 3
      },
      "file_extension": ".py",
      "mimetype": "text/x-python",
      "name": "python",
      "nbconvert_exporter": "python",
      "pygments_lexer": "ipython3",
      "version": "3.8"
    },
    "kernelspec": {
      "name": "python",
      "display_name": "Python (Pyodide)",
      "language": "python"
    }
  },
  "nbformat_minor": 4,
  "nbformat": 4,
  "cells": [
    {
      "cell_type": "code",
      "source": "import pandas as pd\nimport rasterio\nimport torch\nimport torch.nn as nn\nimport torch.optim as optim\n\n# Load the FOWOT input data into a Pandas dataframe\ndata = pd.read_csv('fowot_input.csv')\n\n# Get a list of unique cultivars in the data\nunique_cultivars = data['cultivar'].unique()\n\n# Train a separate FOWOT model for each unique cultivar\nmodels = {}\nfor cultivar in unique_cultivars:\n    # Create a mask to select only the rows with the current cultivar\n    mask = data['cultivar'] == cultivar\n\n    # Split the input data and targets into train and validation sets\n    train_data = data[mask].sample(frac=0.8, random_state=1)\n    val_data = data[mask].drop(train_data.index)\n\n    # Read geotiffs as input data\n    with rasterio.open('input_geotiff.tif') as src:\n        train_inputs = []\n        for idx, row in train_data.iterrows():\n            x, y = src.index(row['longitude'], row['latitude'])\n            value = src.read(1, window=((y, y+1), (x, x+1)))[0][0]\n            train_inputs.append([value, ...]) # Other input features\n\n        train_inputs = torch.tensor(train_inputs, dtype=torch.float32)\n\n        val_inputs = []\n        for idx, row in val_data.iterrows():\n            x, y = src.index(row['longitude'], row['latitude'])\n            value = src.read(1, window=((y, y+1), (x, x+1)))[0][0]\n            val_inputs.append([value, ...]) # Other input features\n\n        val_inputs = torch.tensor(val_inputs, dtype=torch.float32)\n\n    train_targets = torch.tensor(train_data['vulnerability'].values, dtype=torch.float32)\n    val_targets = torch.tensor(val_data['vulnerability'].values, dtype=torch.float32)\n\n    # Define the FOWOT model with geotiff input\n    class FOWOTModel(nn.Module):\n        def __init__(self, input_size, hidden_size, output_size):\n            super(FOWOTModel, self).__init__()\n            self.linear1 = nn.Linear(input_size, hidden_size)\n            self.linear2 = nn.Linear(hidden_size, output_size)\n            self.relu = nn.ReLU()\n\n        def forward(self, x):\n            out = self.linear1(x)\n            out = self.relu(out)\n            out = self.linear2(out)\n            return out\n\n    model = FOWOTModel(train_inputs.size(1), 64, 1)\n    criterion = nn.MSELoss()\n    optimizer = optim.Adam(model.parameters(), lr=0.01)\n\n    # Train the FOWOT model\n    for epoch in range(1000):\n        outputs = model(train_inputs)\n        loss = criterion(outputs, train_targets)\n\n        optimizer.zero_grad()\n        loss.backward()\n        optimizer.step()\n\n        if (epoch+1) % 100 == 0:\n            print('Cultivar: {}, Epoch [{}/{}], Loss: {:.4f}'.format(cultivar, epoch+1, 1000, loss.item()))\n\n    # Evaluate the FOWOT model on the validation set\n    with torch.no_grad():\n        val_outputs = model(val_inputs)\n        val_loss = criterion(val_outputs, val_targets)\n\n    # Save the FOWOT model for the current cultivar\n    models[cultivar] = model\n\nprint('Training complete. Models saved.')\n",
      "metadata": {},
      "execution_count": null,
      "outputs": []
    }
  ]
}