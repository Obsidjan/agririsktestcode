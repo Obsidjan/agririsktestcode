{
  "metadata": {
    "kernelspec": {
      "name": "python",
      "display_name": "Python (Pyodide)",
      "language": "python"
    },
    "language_info": {
      "codemirror_mode": {
        "name": "python",
        "version": 3
      },
      "file_extension": ".py",
      "mimetype": "text/x-python",
      "name": "python",
      "nbconvert_exporter": "python",
      "pygments_lexer": "ipython3",
      "version": "3.8"
    }
  },
  "nbformat_minor": 5,
  "nbformat": 4,
  "cells": [
    {
      "cell_type": "code",
      "source": "import pandas as pd\nimport torch\nimport torch.nn as nn\nimport torch.optim as optim\n\n# Load the FOWOT input data into a Pandas dataframe\ndata = pd.read_csv('fowot_input.csv')\n\n# Add drought-related features to the input data\ndata['soil_moisture'] = ... # Soil moisture data\ndata['precipitation'] = ... # Precipitation data\n\n# Convert the Pandas dataframe to a PyTorch tensor\ninputs = torch.tensor(data.values, dtype=torch.float32)\n\n# Define the FOWOT model with additional drought-related features\nclass FOWOTModel(nn.Module):\n    def __init__(self, input_size, hidden_size, output_size):\n        super(FOWOTModel, self).__init__()\n        self.linear1 = nn.Linear(input_size, hidden_size)\n        self.linear2 = nn.Linear(hidden_size, output_size)\n        self.relu = nn.ReLU()\n\n    def forward(self, x):\n        out = self.linear1(x)\n        out = self.relu(out)\n        out = self.linear2(out)\n        return out\n\n# Initialize the FOWOT model using the PyTorch tensor as input\nmodel = FOWOTModel(inputs.size(1), 64, 1)\n\n# Define the loss function and optimizer\ncriterion = nn.MSELoss()\noptimizer = optim.Adam(model.parameters(), lr=0.01)\n\n# Train the FOWOT model\nfor epoch in range(1000):\n    # Forward pass\n    outputs = model(inputs)\n    loss = criterion(outputs, targets)\n\n    # Backward and optimize\n    optimizer.zero_grad()\n    loss.backward()\n    optimizer.step()\n\n    if (epoch+1) % 100 == 0:\n        print('Epoch [{}/{}], Loss: {:.4f}'.format(epoch+1, 1000, loss.item()))\n\n# Evaluate the FOWOT model\nwith torch.no_grad():\n    outputs = model(inputs)\n    predicted_vulnerabilities = outputs.numpy()\n\n    # Compute the average vulnerability score for each crop type\n    crop_types = data['crop_type'].unique()\n    avg_vulnerabilities = []\n    for crop_type in crop_types:\n        mask = data['crop_type'] == crop_type\n        avg_vulnerability = predicted_vulnerabilities[mask].mean()\n        avg_vulnerabilities.append((crop_type, avg_vulnerability))\n\n    # Sort the crop types by average vulnerability score\n    avg_vulnerabilities = sorted(avg_vulnerabilities, key=lambda x: x[1])\n\n    # Print the top 5 most vulnerable crops\n    print('Top 5 most vulnerable crops:')\n    for i in range(5):\n        crop_type, avg_vulnerability = avg_vulnerabilities[i]\n        print('{}: {:.4f}'.format(crop_type, avg_vulnerability))\n\n    # Print the bottom 5 least vulnerable crops\n    print('Bottom 5 least vulnerable crops:')\n    for i in range(-1, -6, -1):\n        crop_type, avg_vulnerability = avg_vulnerabilities[i]\n        print('{}: {:.4f}'.format(crop_type, avg_vulnerability))\n\n",
      "metadata": {},
      "execution_count": null,
      "outputs": [],
      "id": "78fcf86b-e1a6-45c0-adfd-f7bc6d2ae472"
    }
  ]
}