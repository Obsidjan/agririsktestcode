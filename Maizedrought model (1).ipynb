{
  "metadata": {
    "kernelspec": {
      "name": "python",
      "display_name": "Python (Pyodide)",
      "language": "python"
    },
    "language_info": {
      "codemirror_mode": {
        "name": "python",
        "version": 3
      },
      "file_extension": ".py",
      "mimetype": "text/x-python",
      "name": "python",
      "nbconvert_exporter": "python",
      "pygments_lexer": "ipython3",
      "version": "3.8"
    }
  },
  "nbformat_minor": 5,
  "nbformat": 4,
  "cells": [
    {
      "cell_type": "code",
      "source": "import pandas as pd\nimport numpy as np\nimport xarray as xr\nfrom dssat import *\nfrom dssat.models import *\nfrom dssat.utils import *\n\n# weather file\nweather = pd.DataFrame({\n    'date': pd.date_range('2021-01-01', '2021-12-31'),\n    'max_temp': np.random.normal(30, 5, 365),\n    'min_temp': np.random.normal(20, 5, 365),\n    'rainfall': np.random.normal(100, 50, 365),\n    'solar_rad': np.random.normal(20, 5, 365)\n})\n\n# soil file \nsoil = pd.DataFrame({\n    'layer_depth': [0.1, 0.2, 0.3, 0.4, 0.5],\n    'bd': [1.3, 1.4, 1.5, 1.6, 1.7],\n    'oc': [1.0, 1.1, 1.2, 1.3, 1.4],\n    'ph': [6.0, 6.2, 6.4, 6.6, 6.8],\n    'cec': [10.0, 11.0, 12.0, 13.0, 14.0],\n    'clay': [20, 25, 30, 35, 40],\n    'sand': [30, 35, 40, 45, 50]\n})\n\n# management file\nmanagement = pd.DataFrame({\n    'year': [2021],\n    'jday': [1],\n    'code': ['PLANT'],\n    'cultivar': ['Maize'],\n    'pltnum': [1],\n    'sdate': [datetime.date(2021, 5, 1)],\n    'edate': [datetime.date(2021, 5, 1)],\n    'plant_density': [30000],\n    'row_spacing': [0.75],\n    'fertilizer_n': [120],\n    'fertilizer_p': [60],\n    'fertilizer_k': [60]\n})\n\n# create a model instance\nmodel = CERESMaize()\n\n# run the simulation\noutput = model.run_weather_soil_management(weather, soil, management)\n\n# convert the output to an xarray dataset\nds = output.to_xarray()",
      "metadata": {
        "trusted": true
      },
      "execution_count": 1,
      "outputs": [
        {
          "ename": "<class 'ModuleNotFoundError'>",
          "evalue": "No module named 'dssat'",
          "traceback": [
            "\u001b[0;31m---------------------------------------------------------------------------\u001b[0m",
            "\u001b[0;31mModuleNotFoundError\u001b[0m                       Traceback (most recent call last)",
            "Cell \u001b[0;32mIn[1], line 5\u001b[0m\n\u001b[1;32m      3\u001b[0m \u001b[38;5;28;01mimport\u001b[39;00m \u001b[38;5;21;01mnumpy\u001b[39;00m \u001b[38;5;28;01mas\u001b[39;00m \u001b[38;5;21;01mnp\u001b[39;00m\n\u001b[1;32m      4\u001b[0m \u001b[38;5;28;01mimport\u001b[39;00m \u001b[38;5;21;01mxarray\u001b[39;00m \u001b[38;5;28;01mas\u001b[39;00m \u001b[38;5;21;01mxr\u001b[39;00m\n\u001b[0;32m----> 5\u001b[0m \u001b[38;5;28;01mfrom\u001b[39;00m \u001b[38;5;21;01mdssat\u001b[39;00m \u001b[38;5;28;01mimport\u001b[39;00m \u001b[38;5;241m*\u001b[39m\n\u001b[1;32m      6\u001b[0m \u001b[38;5;28;01mfrom\u001b[39;00m \u001b[38;5;21;01mdssat\u001b[39;00m\u001b[38;5;21;01m.\u001b[39;00m\u001b[38;5;21;01mmodels\u001b[39;00m \u001b[38;5;28;01mimport\u001b[39;00m \u001b[38;5;241m*\u001b[39m\n\u001b[1;32m      7\u001b[0m \u001b[38;5;28;01mfrom\u001b[39;00m \u001b[38;5;21;01mdssat\u001b[39;00m\u001b[38;5;21;01m.\u001b[39;00m\u001b[38;5;21;01mutils\u001b[39;00m \u001b[38;5;28;01mimport\u001b[39;00m \u001b[38;5;241m*\u001b[39m\n",
            "\u001b[0;31mModuleNotFoundError\u001b[0m: No module named 'dssat'"
          ],
          "output_type": "error"
        }
      ],
      "id": "9af4ecd5-6b42-4b12-87ef-719ffa5b0670"
    },
    {
      "cell_type": "code",
      "source": "\n",
      "metadata": {},
      "execution_count": null,
      "outputs": [],
      "id": "214d249a-642c-41d2-85c3-38cace91af9f"
    }
  ]
}