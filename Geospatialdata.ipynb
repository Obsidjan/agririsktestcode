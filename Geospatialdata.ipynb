{
  "metadata": {
    "language_info": {
      "codemirror_mode": {
        "name": "python",
        "version": 3
      },
      "file_extension": ".py",
      "mimetype": "text/x-python",
      "name": "python",
      "nbconvert_exporter": "python",
      "pygments_lexer": "ipython3",
      "version": "3.8"
    },
    "kernelspec": {
      "name": "python",
      "display_name": "Python (Pyodide)",
      "language": "python"
    }
  },
  "nbformat_minor": 4,
  "nbformat": 4,
  "cells": [
    {
      "cell_type": "code",
      "source": "import pymaize\nimport rasterio\nimport geopandas as gpd\n\n# PyMaize simulation\nsim = pymaize.Simulation(\"maize\")\n\n# GeoTIFF raster file of soil moisture content\nwith rasterio.open(\"soil_moisture.tif\") as src:\n    soil_moisture = src.read(1)\n\n# Shapefile of field boundaries\nfields = gpd.read_file(\"fields.shp\")\n\n# Loop over the fields and run the simulation for each field\nresults = {}\nfor i, field in fields.iterrows():\n    sim.set_soil_moisture(soil_moisture[field.geometry])\n    sim.set_field_size(field.geometry.area)\n    sim.run()\n    results[field[\"name\"]] = sim.get_output(\"grain_yield\")\n",
      "metadata": {},
      "execution_count": null,
      "outputs": []
    }
  ]
}